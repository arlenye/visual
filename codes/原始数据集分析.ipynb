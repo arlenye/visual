{
 "cells": [
  {
   "cell_type": "code",
   "execution_count": 2,
   "id": "ac112314",
   "metadata": {},
   "outputs": [],
   "source": [
    "import os\n",
    "import pandas as pd\n",
    "import matplotlib.pyplot as plt"
   ]
  },
  {
   "cell_type": "code",
   "execution_count": 14,
   "id": "864978a0",
   "metadata": {},
   "outputs": [],
   "source": [
    "label_dir=\"/mnt/d//Smoke-Fall-YOLO-datasets/trainset/labels\""
   ]
  },
  {
   "cell_type": "code",
   "execution_count": 15,
   "id": "1db672d5",
   "metadata": {},
   "outputs": [],
   "source": [
    "label_files = [os.path.join(label_dir, f) \n",
    "              for f in os.listdir(label_dir) \n",
    "              if f.endswith('.txt')]"
   ]
  },
  {
   "cell_type": "code",
   "execution_count": 16,
   "id": "70cbd295",
   "metadata": {},
   "outputs": [],
   "source": [
    "all_labels = []\n",
    "for txt_file in label_files:\n",
    "    try:\n",
    "        with open(txt_file, 'r') as f:\n",
    "            lines = f.readlines()\n",
    "            for line in lines:\n",
    "                # 跳过空行\n",
    "                if line.strip() == \"\": \n",
    "                    continue\n",
    "                    \n",
    "                parts = line.split()\n",
    "                # 确保有5个值（class_id + 4个坐标）\n",
    "                if len(parts) == 5:  \n",
    "                    class_id = int(parts[0])\n",
    "                    all_labels.append(class_id)\n",
    "    except Exception as e:\n",
    "        print(f\"处理文件 {txt_file} 时出错: {str(e)}\")"
   ]
  },
  {
   "cell_type": "code",
   "execution_count": 17,
   "id": "b619eff0",
   "metadata": {},
   "outputs": [
    {
     "name": "stdout",
     "output_type": "stream",
     "text": [
      "类别分布统计:\n",
      "0     636\n",
      "1    1186\n",
      "Name: count, dtype: int64\n"
     ]
    },
    {
     "name": "stderr",
     "output_type": "stream",
     "text": [
      "/tmp/ipykernel_3175/527200956.py:32: UserWarning: Glyph 31867 (\\N{CJK UNIFIED IDEOGRAPH-7C7B}) missing from font(s) DejaVu Sans.\n",
      "  plt.tight_layout()\n",
      "/tmp/ipykernel_3175/527200956.py:32: UserWarning: Glyph 21035 (\\N{CJK UNIFIED IDEOGRAPH-522B}) missing from font(s) DejaVu Sans.\n",
      "  plt.tight_layout()\n",
      "/tmp/ipykernel_3175/527200956.py:32: UserWarning: Glyph 25968 (\\N{CJK UNIFIED IDEOGRAPH-6570}) missing from font(s) DejaVu Sans.\n",
      "  plt.tight_layout()\n",
      "/tmp/ipykernel_3175/527200956.py:32: UserWarning: Glyph 37327 (\\N{CJK UNIFIED IDEOGRAPH-91CF}) missing from font(s) DejaVu Sans.\n",
      "  plt.tight_layout()\n",
      "/tmp/ipykernel_3175/527200956.py:32: UserWarning: Glyph 30446 (\\N{CJK UNIFIED IDEOGRAPH-76EE}) missing from font(s) DejaVu Sans.\n",
      "  plt.tight_layout()\n",
      "/tmp/ipykernel_3175/527200956.py:32: UserWarning: Glyph 26631 (\\N{CJK UNIFIED IDEOGRAPH-6807}) missing from font(s) DejaVu Sans.\n",
      "  plt.tight_layout()\n",
      "/tmp/ipykernel_3175/527200956.py:32: UserWarning: Glyph 20998 (\\N{CJK UNIFIED IDEOGRAPH-5206}) missing from font(s) DejaVu Sans.\n",
      "  plt.tight_layout()\n",
      "/tmp/ipykernel_3175/527200956.py:32: UserWarning: Glyph 24067 (\\N{CJK UNIFIED IDEOGRAPH-5E03}) missing from font(s) DejaVu Sans.\n",
      "  plt.tight_layout()\n",
      "/tmp/ipykernel_3175/527200956.py:33: UserWarning: Glyph 31867 (\\N{CJK UNIFIED IDEOGRAPH-7C7B}) missing from font(s) DejaVu Sans.\n",
      "  plt.savefig(\"class_distribution.png\")  # 保存图表\n",
      "/tmp/ipykernel_3175/527200956.py:33: UserWarning: Glyph 21035 (\\N{CJK UNIFIED IDEOGRAPH-522B}) missing from font(s) DejaVu Sans.\n",
      "  plt.savefig(\"class_distribution.png\")  # 保存图表\n",
      "/tmp/ipykernel_3175/527200956.py:33: UserWarning: Glyph 25968 (\\N{CJK UNIFIED IDEOGRAPH-6570}) missing from font(s) DejaVu Sans.\n",
      "  plt.savefig(\"class_distribution.png\")  # 保存图表\n",
      "/tmp/ipykernel_3175/527200956.py:33: UserWarning: Glyph 37327 (\\N{CJK UNIFIED IDEOGRAPH-91CF}) missing from font(s) DejaVu Sans.\n",
      "  plt.savefig(\"class_distribution.png\")  # 保存图表\n",
      "/tmp/ipykernel_3175/527200956.py:33: UserWarning: Glyph 30446 (\\N{CJK UNIFIED IDEOGRAPH-76EE}) missing from font(s) DejaVu Sans.\n",
      "  plt.savefig(\"class_distribution.png\")  # 保存图表\n",
      "/tmp/ipykernel_3175/527200956.py:33: UserWarning: Glyph 26631 (\\N{CJK UNIFIED IDEOGRAPH-6807}) missing from font(s) DejaVu Sans.\n",
      "  plt.savefig(\"class_distribution.png\")  # 保存图表\n",
      "/tmp/ipykernel_3175/527200956.py:33: UserWarning: Glyph 20998 (\\N{CJK UNIFIED IDEOGRAPH-5206}) missing from font(s) DejaVu Sans.\n",
      "  plt.savefig(\"class_distribution.png\")  # 保存图表\n",
      "/tmp/ipykernel_3175/527200956.py:33: UserWarning: Glyph 24067 (\\N{CJK UNIFIED IDEOGRAPH-5E03}) missing from font(s) DejaVu Sans.\n",
      "  plt.savefig(\"class_distribution.png\")  # 保存图表\n",
      "/home/philosophy/miniconda3/envs/ai_course/lib/python3.11/site-packages/IPython/core/pylabtools.py:170: UserWarning: Glyph 25968 (\\N{CJK UNIFIED IDEOGRAPH-6570}) missing from font(s) DejaVu Sans.\n",
      "  fig.canvas.print_figure(bytes_io, **kw)\n",
      "/home/philosophy/miniconda3/envs/ai_course/lib/python3.11/site-packages/IPython/core/pylabtools.py:170: UserWarning: Glyph 37327 (\\N{CJK UNIFIED IDEOGRAPH-91CF}) missing from font(s) DejaVu Sans.\n",
      "  fig.canvas.print_figure(bytes_io, **kw)\n",
      "/home/philosophy/miniconda3/envs/ai_course/lib/python3.11/site-packages/IPython/core/pylabtools.py:170: UserWarning: Glyph 30446 (\\N{CJK UNIFIED IDEOGRAPH-76EE}) missing from font(s) DejaVu Sans.\n",
      "  fig.canvas.print_figure(bytes_io, **kw)\n",
      "/home/philosophy/miniconda3/envs/ai_course/lib/python3.11/site-packages/IPython/core/pylabtools.py:170: UserWarning: Glyph 26631 (\\N{CJK UNIFIED IDEOGRAPH-6807}) missing from font(s) DejaVu Sans.\n",
      "  fig.canvas.print_figure(bytes_io, **kw)\n",
      "/home/philosophy/miniconda3/envs/ai_course/lib/python3.11/site-packages/IPython/core/pylabtools.py:170: UserWarning: Glyph 31867 (\\N{CJK UNIFIED IDEOGRAPH-7C7B}) missing from font(s) DejaVu Sans.\n",
      "  fig.canvas.print_figure(bytes_io, **kw)\n",
      "/home/philosophy/miniconda3/envs/ai_course/lib/python3.11/site-packages/IPython/core/pylabtools.py:170: UserWarning: Glyph 21035 (\\N{CJK UNIFIED IDEOGRAPH-522B}) missing from font(s) DejaVu Sans.\n",
      "  fig.canvas.print_figure(bytes_io, **kw)\n",
      "/home/philosophy/miniconda3/envs/ai_course/lib/python3.11/site-packages/IPython/core/pylabtools.py:170: UserWarning: Glyph 20998 (\\N{CJK UNIFIED IDEOGRAPH-5206}) missing from font(s) DejaVu Sans.\n",
      "  fig.canvas.print_figure(bytes_io, **kw)\n",
      "/home/philosophy/miniconda3/envs/ai_course/lib/python3.11/site-packages/IPython/core/pylabtools.py:170: UserWarning: Glyph 24067 (\\N{CJK UNIFIED IDEOGRAPH-5E03}) missing from font(s) DejaVu Sans.\n",
      "  fig.canvas.print_figure(bytes_io, **kw)\n"
     ]
    },
    {
     "data": {
      "image/png": "[encoded data removed]",
      "text/plain": [
       "<Figure size 1000x600 with 1 Axes>"
      ]
     },
     "metadata": {},
     "output_type": "display_data"
    }
   ],
   "source": [
    "# 4. 统计并绘制结果\n",
    "if all_labels:\n",
    "    # 创建Series对象\n",
    "    label_series = pd.Series(all_labels)\n",
    "    \n",
    "    # 统计各类别数量\n",
    "    counts = label_series.value_counts().sort_index()\n",
    "    \n",
    "    # 打印统计结果\n",
    "    print(\"类别分布统计:\")\n",
    "    print(counts)\n",
    "    \n",
    "    # 使用类别名称（从你的data.yaml中获取）\n",
    "    class_names = ['smoke', 'fall']  # 对应类别0和1\n",
    "    \n",
    "    # 创建带类别名称的统计\n",
    "    named_counts = counts.rename(index=lambda x: f\"{class_names[x]} ({x})\")\n",
    "    \n",
    "    # 绘制条形图\n",
    "    ax = named_counts.plot.bar(\n",
    "        title=\"目标类别分布\",\n",
    "        xlabel=\"类别\",\n",
    "        ylabel=\"数量\",\n",
    "        figsize=(10, 6),\n",
    "        rot=0  # 横轴标签不旋转\n",
    "    )\n",
    "    \n",
    "    # 在柱子上方显示数量\n",
    "    for i, v in enumerate(counts):\n",
    "        ax.text(i, v + 0.5, str(v), ha='center')\n",
    "    \n",
    "    plt.tight_layout()\n",
    "    plt.savefig(\"class_distribution.png\")  # 保存图表\n",
    "    plt.show()\n",
    "else:\n",
    "    print(\"未找到有效的标签数据\")"
   ]
  },
  {
   "cell_type": "code",
   "execution_count": 18,
   "id": "dce78542",
   "metadata": {},
   "outputs": [
    {
     "name": "stdout",
     "output_type": "stream",
     "text": [
      "总标签文件数: 1754\n",
      "总目标实例数: 1822\n",
      "平均每张图像目标数: 1.04\n",
      "smoke 占比: 34.91%\n",
      "fall 占比: 65.09%\n"
     ]
    }
   ],
   "source": [
    "# 添加数据集大小统计\n",
    "print(f\"总标签文件数: {len(label_files)}\")\n",
    "print(f\"总目标实例数: {len(all_labels)}\")\n",
    "print(f\"平均每张图像目标数: {len(all_labels)/len(label_files):.2f}\")\n",
    "\n",
    "# 添加类别比例计算\n",
    "total = len(all_labels)\n",
    "for class_id, count in counts.items():\n",
    "    print(f\"{class_names[class_id]} 占比: {count/total:.2%}\")"
   ]
  },
  {
   "cell_type": "code",
   "execution_count": null,
   "id": "83ef7334",
   "metadata": {},
   "outputs": [],
   "source": []
  }
 ],
 "metadata": {
  "kernelspec": {
   "display_name": "ai_course",
   "language": "python",
   "name": "python3"
  },
  "language_info": {
   "codemirror_mode": {
    "name": "ipython",
    "version": 3
   },
   "file_extension": ".py",
   "mimetype": "text/x-python",
   "name": "python",
   "nbconvert_exporter": "python",
   "pygments_lexer": "ipython3",
   "version": "3.11.13"
  }
 },
 "nbformat": 4,
 "nbformat_minor": 5
}
