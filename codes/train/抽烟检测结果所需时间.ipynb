{
 "cells": [
  {
   "cell_type": "code",
   "execution_count": 1,
   "id": "08747edd-e13f-44bf-a16b-c913d50305ce",
   "metadata": {},
   "outputs": [],
   "source": [
    "from ultralytics import YOLO"
   ]
  },
  {
   "cell_type": "code",
   "execution_count": 2,
   "id": "9a2c2e7a-77d6-4479-a598-37790172f342",
   "metadata": {},
   "outputs": [],
   "source": [
    "import time"
   ]
  },
  {
   "cell_type": "code",
   "execution_count": 3,
   "id": "313f895b-4301-4fd1-a695-1621854f7a61",
   "metadata": {},
   "outputs": [],
   "source": [
    "import os "
   ]
  },
  {
   "cell_type": "code",
   "execution_count": 4,
   "id": "52149191-509e-4b23-b47b-acb79bdffec2",
   "metadata": {},
   "outputs": [],
   "source": [
    "os.environ[\"KMP_DUPLICATE_LIB\"] = \"True\""
   ]
  },
  {
   "cell_type": "code",
   "execution_count": 5,
   "id": "4a06c30f-9510-43df-8f59-526a87c12d58",
   "metadata": {},
   "outputs": [],
   "source": [
    "def time_test(pt, source = \"C:\\\\Users\\\\Chenfei\\\\codes\\\\抽烟结果检测\\\\u=3645719502,708523190&fm=193.jpg\"):\n",
    "    time1 = time.perf_counter()\n",
    "    model = YOLO(pt)\n",
    "    if __name__ == \"__main__\":\n",
    "        results = model.predict(source = source)\n",
    "    time2 = time.perf_counter()\n",
    "    return time2 - time1\n",
    "##定义推理时间"
   ]
  },
  {
   "cell_type": "code",
   "execution_count": 6,
   "id": "8ab97ca6-88a7-42d3-890b-af2c76f1c706",
   "metadata": {},
   "outputs": [
    {
     "name": "stdout",
     "output_type": "stream",
     "text": [
      "\n",
      "image 1/1 C:\\Users\\Chenfei\\codes\\\\u=3645719502,708523190&fm=193.jpg: 448x640 1 smoke, 15.5ms\n",
      "Speed: 2.3ms preprocess, 15.5ms inference, 78.9ms postprocess per image at shape (1, 3, 448, 640)\n",
      "\n",
      "image 1/1 C:\\Users\\Chenfei\\codes\\\\u=3645719502,708523190&fm=193.jpg: 448x640 1 smoke, 4.2ms\n",
      "Speed: 1.3ms preprocess, 4.2ms inference, 1.2ms postprocess per image at shape (1, 3, 448, 640)\n",
      "\n",
      "image 1/1 C:\\Users\\Chenfei\\codes\\\\u=3645719502,708523190&fm=193.jpg: 448x640 1 smoke, 14.1ms\n",
      "Speed: 1.4ms preprocess, 14.1ms inference, 14.7ms postprocess per image at shape (1, 3, 448, 640)\n",
      "\n",
      "image 1/1 C:\\Users\\Chenfei\\codes\\\\u=3645719502,708523190&fm=193.jpg: 448x640 2 smokes, 15.9ms\n",
      "Speed: 1.4ms preprocess, 15.9ms inference, 1.2ms postprocess per image at shape (1, 3, 448, 640)\n",
      "\n",
      "image 1/1 C:\\Users\\Chenfei\\codes\\\\u=3645719502,708523190&fm=193.jpg: 448x640 (no detections), 11.1ms\n",
      "Speed: 1.3ms preprocess, 11.1ms inference, 0.5ms postprocess per image at shape (1, 3, 448, 640)\n",
      "\n",
      "image 1/1 C:\\Users\\Chenfei\\codes\\\\u=3645719502,708523190&fm=193.jpg: 448x640 1 smoke, 13.3ms\n",
      "Speed: 1.4ms preprocess, 13.3ms inference, 1.0ms postprocess per image at shape (1, 3, 448, 640)\n",
      "\n",
      "image 1/1 C:\\Users\\Chenfei\\codes\\\\u=3645719502,708523190&fm=193.jpg: 448x640 1 fall, 8.8ms\n",
      "Speed: 1.0ms preprocess, 8.8ms inference, 1.0ms postprocess per image at shape (1, 3, 448, 640)\n",
      "\n",
      "image 1/1 C:\\Users\\Chenfei\\codes\\\\u=3645719502,708523190&fm=193.jpg: 448x640 (no detections), 4.6ms\n",
      "Speed: 1.0ms preprocess, 4.6ms inference, 0.5ms postprocess per image at shape (1, 3, 448, 640)\n",
      "\n",
      "image 1/1 C:\\Users\\Chenfei\\codes\\\\u=3645719502,708523190&fm=193.jpg: 448x640 1 smoke, 4.1ms\n",
      "Speed: 0.9ms preprocess, 4.1ms inference, 1.0ms postprocess per image at shape (1, 3, 448, 640)\n"
     ]
    }
   ],
   "source": [
    "time_yolov8n1 = time_test(\"C:\\\\Users\\\\Chenfei\\\\ultralytics\\\\runs\\\\detect\\\\train16-yolov8n1\\\\weights\\\\best.pt\")\n",
    "time_yolov8n = time_test(\"C:\\\\Users\\\\Chenfei\\\\ultralytics\\\\runs\\\\detect\\\\train16-yolov8n\\\\weights\\\\best.pt\")\n",
    "time_yolov8s = time_test(\"C:\\\\Users\\\\Chenfei\\\\ultralytics\\\\runs\\\\detect\\\\train16-yolov8s\\\\weights\\\\best.pt\")\n",
    "time_yolov8m = time_test(\"C:\\\\Users\\\\Chenfei\\\\ultralytics\\\\runs\\\\detect\\\\train16-yolov8m\\\\weights\\\\best.pt\")\n",
    "time_yolo11n = time_test(\"C:\\\\Users\\\\Chenfei\\\\ultralytics\\\\runs\\\\detect\\\\train16-yolo11n\\\\weights\\\\best.pt\")\n",
    "time_yolo11m = time_test(\"C:\\\\Users\\\\Chenfei\\\\ultralytics\\\\runs\\\\detect\\\\train16-yolo11m\\\\weights\\\\best.pt\")\n",
    "time_yolo11s = time_test(\"C:\\\\Users\\\\Chenfei\\\\ultralytics\\\\runs\\\\detect\\\\train16-yolo11s\\\\weights\\\\best.pt\")\n",
    "time_yolov8s_all = time_test(\"C:\\\\Users\\\\Chenfei\\\\ultralytics\\\\runs\\\\detect\\\\train16-yolov8s-allin\\\\weights\\\\best.pt\")\n",
    "time_yolov8s_all_200epochs = time_test(\"C:\\\\Users\\\\Chenfei\\\\ultralytics\\\\runs\\\\detect\\\\train16-yolov8s-allin-200epochs\\\\weights\\\\best.pt\")"
   ]
  },
  {
   "cell_type": "code",
   "execution_count": 7,
   "id": "572b84f9-1e0b-41fd-96e3-5c63765bc88b",
   "metadata": {},
   "outputs": [],
   "source": [
    "from matplotlib import pyplot as plt"
   ]
  },
  {
   "cell_type": "code",
   "execution_count": 8,
   "id": "30272f6b-59a9-49b1-8694-e6a23ea537d4",
   "metadata": {},
   "outputs": [],
   "source": [
    "categories = [\"v8n\", 'v8s', 'v8m', '11n', \"11s\", \"11m\", \"v8s_all\", \"v8s_200\"] \n",
    "values = [time_yolov8n, time_yolov8s, time_yolov8m, time_yolo11n, time_yolo11s, time_yolo11m, time_yolov8s_all, time_yolov8s_all_200epochs]"
   ]
  },
  {
   "cell_type": "code",
   "execution_count": 9,
   "id": "523423a8-06a2-45aa-992a-41d5a7b7ecdc",
   "metadata": {},
   "outputs": [
    {
     "data": {
      "image/png": "[encoded data removed]",
      "text/plain": [
       "<Figure size 640x480 with 1 Axes>"
      ]
     },
     "metadata": {},
     "output_type": "display_data"
    },
    {
     "data": {
      "text/plain": [
       "<Figure size 640x480 with 0 Axes>"
      ]
     },
     "metadata": {},
     "output_type": "display_data"
    }
   ],
   "source": [
    "plt.bar(categories, values)\n",
    "plt.title(\"model predict time-smoke\")\n",
    "plt.xlabel(\"model type\")\n",
    "plt.ylabel(\"time\")\n",
    "plt.show()\n",
    "plt.savefig(\"抽烟检测模型预测所需时间.jpg\")"
   ]
  },
  {
   "cell_type": "code",
   "execution_count": null,
   "id": "2fe53dd0-e7f5-42fa-8345-0ea5c53345df",
   "metadata": {},
   "outputs": [],
   "source": []
  }
 ],
 "metadata": {
  "kernelspec": {
   "display_name": "Python [conda env:base] *",
   "language": "python",
   "name": "conda-base-py"
  },
  "language_info": {
   "codemirror_mode": {
    "name": "ipython",
    "version": 3
   },
   "file_extension": ".py",
   "mimetype": "text/x-python",
   "name": "python",
   "nbconvert_exporter": "python",
   "pygments_lexer": "ipython3",
   "version": "3.12.3"
  }
 },
 "nbformat": 4,
 "nbformat_minor": 5
}
